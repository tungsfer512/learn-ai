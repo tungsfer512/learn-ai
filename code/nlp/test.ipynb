{
 "cells": [
  {
   "cell_type": "code",
   "execution_count": 70,
   "metadata": {},
   "outputs": [],
   "source": [
    "import numpy as np\n",
    "import math"
   ]
  },
  {
   "cell_type": "code",
   "execution_count": 88,
   "metadata": {},
   "outputs": [],
   "source": [
    "words = ['big', 'cats', 'eat', 'fish', 'john']\n",
    "corpus = [\n",
    "    'John has some cats', \n",
    "    'Cats eat fishs', \n",
    "    'I eat a big fish'\n",
    "]\n",
    "\n",
    "normalization = [\n",
    "    ['john', 'cats'], \n",
    "    ['cats', 'eat', 'fish'], \n",
    "    ['eat', 'big', 'fish']\n",
    "    ]"
   ]
  },
  {
   "cell_type": "code",
   "execution_count": 89,
   "metadata": {},
   "outputs": [
    {
     "name": "stdout",
     "output_type": "stream",
     "text": [
      "[[0.         0.5        0.         0.         0.5       ]\n",
      " [0.         0.33333333 0.33333333 0.33333333 0.        ]\n",
      " [0.33333333 0.         0.33333333 0.33333333 0.        ]]\n"
     ]
    }
   ],
   "source": [
    "tf = []\n",
    "\n",
    "for i in range(len(words)):\n",
    "    te = [0] * len(normalization)\n",
    "    for j in range(len(normalization)):\n",
    "        if words[i] in normalization[j]:\n",
    "            te[j] += normalization[j].count(words[i])\n",
    "        te[j] /= len(normalization[j])\n",
    "    tf.append(te)\n",
    "    \n",
    "tf = np.array(tf).T\n",
    "print(tf)"
   ]
  },
  {
   "cell_type": "code",
   "execution_count": 90,
   "metadata": {},
   "outputs": [
    {
     "data": {
      "text/plain": [
       "[1, 2, 2, 2, 1]"
      ]
     },
     "execution_count": 90,
     "metadata": {},
     "output_type": "execute_result"
    }
   ],
   "source": [
    "sentences = [0] * len(words)\n",
    "\n",
    "for i in range(len(words)):\n",
    "    for document in normalization:\n",
    "        if words[i] in document:\n",
    "            sentences[i] += 1\n",
    "            \n",
    "sentences"
   ]
  },
  {
   "cell_type": "code",
   "execution_count": 91,
   "metadata": {},
   "outputs": [
    {
     "data": {
      "text/plain": [
       "[1.6931471805599454,\n",
       " 1.2876820724517808,\n",
       " 1.2876820724517808,\n",
       " 1.2876820724517808,\n",
       " 1.6931471805599454]"
      ]
     },
     "execution_count": 91,
     "metadata": {},
     "output_type": "execute_result"
    }
   ],
   "source": [
    "idf = [0] * len(words)\n",
    "for i in range(len(words)):\n",
    "    idf[i] = math.log((len(normalization) + 1) / (sentences[i] + 1)) + 1\n",
    "idf"
   ]
  },
  {
   "cell_type": "code",
   "execution_count": 92,
   "metadata": {},
   "outputs": [
    {
     "data": {
      "text/plain": [
       "[[0.0, 0.6438410362258904, 0.0, 0.0, 0.8465735902799727],\n",
       " [0.0, 0.42922735748392693, 0.42922735748392693, 0.42922735748392693, 0.0],\n",
       " [0.5643823935199818, 0.0, 0.42922735748392693, 0.42922735748392693, 0.0]]"
      ]
     },
     "execution_count": 92,
     "metadata": {},
     "output_type": "execute_result"
    }
   ],
   "source": [
    "tf_idf = []\n",
    "\n",
    "for i in range(len(tf)):\n",
    "    te = []\n",
    "    for j in range(len(idf)):\n",
    "        te.append(tf[i][j] * idf[j])\n",
    "    tf_idf.append(te)\n",
    "tf_idf"
   ]
  },
  {
   "cell_type": "code",
   "execution_count": 93,
   "metadata": {},
   "outputs": [
    {
     "data": {
      "text/plain": [
       "[[0.0, 0.6053485081062916, 0.0, 0.0, 0.7959605415681652],\n",
       " [0.0, 0.5773502691896257, 0.5773502691896257, 0.5773502691896257, 0.0],\n",
       " [0.680918560398684, 0.0, 0.5178561161676974, 0.5178561161676974, 0.0]]"
      ]
     },
     "execution_count": 93,
     "metadata": {},
     "output_type": "execute_result"
    }
   ],
   "source": [
    "# tf_idf = np.array(tf_idf)\n",
    "for i in range(len(tf_idf)):\n",
    "    te = []\n",
    "    des = 0\n",
    "    for j in range(len(tf_idf[i])):\n",
    "        des += tf_idf[i][j] ** 2\n",
    "    for j in range(len(tf_idf[i])):\n",
    "        tf_idf[i][j] /= math.sqrt(des)\n",
    "tf_idf"
   ]
  },
  {
   "cell_type": "code",
   "execution_count": null,
   "metadata": {},
   "outputs": [],
   "source": []
  }
 ],
 "metadata": {
  "kernelspec": {
   "display_name": "learn-nlp",
   "language": "python",
   "name": "python3"
  },
  "language_info": {
   "codemirror_mode": {
    "name": "ipython",
    "version": 3
   },
   "file_extension": ".py",
   "mimetype": "text/x-python",
   "name": "python",
   "nbconvert_exporter": "python",
   "pygments_lexer": "ipython3",
   "version": "3.10.4"
  },
  "orig_nbformat": 4,
  "vscode": {
   "interpreter": {
    "hash": "cdb7246361725cbabbd400ec1f68866d912854140cc201dca798721dd8db517b"
   }
  }
 },
 "nbformat": 4,
 "nbformat_minor": 2
}
