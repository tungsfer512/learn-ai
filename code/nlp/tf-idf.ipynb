{
 "cells": [
  {
   "cell_type": "code",
   "execution_count": 66,
   "metadata": {},
   "outputs": [],
   "source": [
    "import nltk\n",
    "from nltk.tokenize import word_tokenize\n",
    "from nltk.stem import WordNetLemmatizer\n",
    "import string\n",
    "import math\n",
    "from nltk.corpus import stopwords"
   ]
  },
  {
   "cell_type": "code",
   "execution_count": 76,
   "metadata": {},
   "outputs": [],
   "source": [
    "text1 = 'Without music, life would be a mistake'\n",
    "text2 = 'Radiohead are a great music band'"
   ]
  },
  {
   "cell_type": "code",
   "execution_count": 77,
   "metadata": {},
   "outputs": [],
   "source": [
    "def remove_punctuation(text):\n",
    "    translator = str.maketrans('', '', string.punctuation)\n",
    "    res = text.translate(translator)\n",
    "    return res.strip()"
   ]
  },
  {
   "cell_type": "code",
   "execution_count": 78,
   "metadata": {},
   "outputs": [],
   "source": [
    "text1 = remove_punctuation(text1)\n",
    "text2 = remove_punctuation(text2)"
   ]
  },
  {
   "cell_type": "code",
   "execution_count": 79,
   "metadata": {},
   "outputs": [],
   "source": [
    "def remove_stopwords(text):\n",
    "    stop_words = set(stopwords.words('english'))\n",
    "    word_tokens = word_tokenize(text)\n",
    "    res = [word for word in word_tokens if word not in stop_words]\n",
    "    return res"
   ]
  },
  {
   "cell_type": "code",
   "execution_count": 80,
   "metadata": {},
   "outputs": [
    {
     "name": "stdout",
     "output_type": "stream",
     "text": [
      "['Without', 'music', 'life', 'would', 'mistake']\n",
      "['Radiohead', 'great', 'music', 'band']\n"
     ]
    }
   ],
   "source": [
    "words_1 = remove_stopwords(text1)\n",
    "words_2 = remove_stopwords(text2)\n",
    "print(words_1)\n",
    "print(words_2)\n",
    "corpus = [words_1, words_2]"
   ]
  },
  {
   "cell_type": "code",
   "execution_count": 81,
   "metadata": {},
   "outputs": [
    {
     "data": {
      "text/plain": [
       "['Without', 'music', 'life', 'would', 'mistake', 'Radiohead', 'great', 'band']"
      ]
     },
     "execution_count": 81,
     "metadata": {},
     "output_type": "execute_result"
    }
   ],
   "source": [
    "words = []\n",
    "for document in corpus:\n",
    "    for word in document:\n",
    "        if word not in words:\n",
    "            words.append(word)\n",
    "words"
   ]
  },
  {
   "cell_type": "code",
   "execution_count": 82,
   "metadata": {},
   "outputs": [],
   "source": [
    "tf_1 = [words_1.count(word)/len(words_1) for word in words_1]\n",
    "tf_2 = [words_2.count(word)/len(words_2) for word in words_2]"
   ]
  },
  {
   "cell_type": "code",
   "execution_count": 83,
   "metadata": {},
   "outputs": [],
   "source": [
    "\n",
    "N = len(corpus)\n",
    "idf = []\n",
    "for i in range(N):\n",
    "    te = []\n",
    "    for word in corpus[i]: \n",
    "        ni = 0\n",
    "        for document in corpus:\n",
    "            if word in document:\n",
    "                ni += 1\n",
    "        te.append(math.log10((1+N)/(ni+1))+1)\n",
    "    idf.append(te)\n",
    "[idf_1, idf_2] = idf"
   ]
  },
  {
   "cell_type": "code",
   "execution_count": 84,
   "metadata": {},
   "outputs": [
    {
     "name": "stdout",
     "output_type": "stream",
     "text": [
      "[0.2, 0.2, 0.2, 0.2, 0.2]\n",
      "[0.25, 0.25, 0.25, 0.25]\n",
      "[1.1760912590556813, 1.0, 1.1760912590556813, 1.1760912590556813, 1.1760912590556813]\n",
      "[1.1760912590556813, 1.1760912590556813, 1.0, 1.1760912590556813]\n"
     ]
    }
   ],
   "source": [
    "print(tf_1)\n",
    "print(tf_2)\n",
    "print(idf_1)\n",
    "print(idf_2)\n",
    "tf = [tf_1, tf_2]\n",
    "idf = [idf_1, idf_2]"
   ]
  },
  {
   "cell_type": "code",
   "execution_count": 85,
   "metadata": {},
   "outputs": [
    {
     "data": {
      "text/plain": [
       "[0.2352182518111363,\n",
       " 0.2,\n",
       " 0.2352182518111363,\n",
       " 0.2352182518111363,\n",
       " 0.2352182518111363]"
      ]
     },
     "execution_count": 85,
     "metadata": {},
     "output_type": "execute_result"
    }
   ],
   "source": [
    "tf_idf = [tf_1[i] * idf_1[i] for i in range(len(tf_1))]\n",
    "tf_idf"
   ]
  },
  {
   "cell_type": "code",
   "execution_count": null,
   "metadata": {},
   "outputs": [],
   "source": []
  }
 ],
 "metadata": {
  "kernelspec": {
   "display_name": "learn-nlp",
   "language": "python",
   "name": "python3"
  },
  "language_info": {
   "codemirror_mode": {
    "name": "ipython",
    "version": 3
   },
   "file_extension": ".py",
   "mimetype": "text/x-python",
   "name": "python",
   "nbconvert_exporter": "python",
   "pygments_lexer": "ipython3",
   "version": "3.10.4"
  },
  "orig_nbformat": 4,
  "vscode": {
   "interpreter": {
    "hash": "cdb7246361725cbabbd400ec1f68866d912854140cc201dca798721dd8db517b"
   }
  }
 },
 "nbformat": 4,
 "nbformat_minor": 2
}
